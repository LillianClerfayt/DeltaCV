{
 "cells": [
  {
   "cell_type": "code",
   "execution_count": 4,
   "metadata": {
    "scrolled": true
   },
   "outputs": [],
   "source": [
    "# Импорт библиотек\n",
    "import cv2 as cv\n",
    "import numpy as np\n",
    "import video\n",
    "\n",
    "# Создание главного окна\n",
    "cv.namedWindow( \"result\" )\n",
    "\n",
    "# Создание объекта для захвата кадров с камеры\n",
    "cap = video.create_capture(0)\n",
    "# Значения, полученные с помощью фильтра (для ячеек в коробке)\n",
    "hsv_min = np.array((0, 0, 0), np.uint8)\n",
    "hsv_max = np.array((32, 255, 255), np.uint8)\n",
    "\n",
    "while True:\n",
    "    # Захват текущего кадра\n",
    "    flag, img = cap.read()\n",
    "    try:\n",
    "        # Выделение контуров\n",
    "        hsv = cv.cvtColor(img, cv.COLOR_BGR2HSV)\n",
    "        thresh = cv.inRange(hsv, hsv_min, hsv_max)\n",
    "        contours, hierarchy = cv.findContours(thresh.copy(), cv.RETR_EXTERNAL, cv.CHAIN_APPROX_NONE)\n",
    "        # Создание переменной для хранения координат центров исследуемых объектов\n",
    "        centres = []\n",
    "\n",
    "        # Цикл по всем контурам\n",
    "        for i in range(len(contours)):\n",
    "            # Порог количества пикселей\n",
    "            if cv.contourArea(contours[i]) > 1500:\n",
    "                # Определение центров координат исследуемых объектов\n",
    "                moments = cv.moments(contours[i])\n",
    "                x = int(moments['m10'] / moments['m00'])\n",
    "                y = int(moments['m01'] / moments['m00'])\n",
    "                centres.append((x, y))\n",
    "                # Выводимый текст, используемый для проверки работы программы\n",
    "                # cv.circle(img, centres[-1], 3, (153,255,153), -1)\n",
    "                # cv.putText(img, \"(%d | -%d)\" % (x,y), (x-50,y-20),\n",
    "                            # cv.FONT_HERSHEY_SIMPLEX, 0.55, (153,255,153), 2)\n",
    "\n",
    "        # Отображение изображения с центрами исследуемых объектов\n",
    "        # cv.imshow('image', img)\n",
    "    except:\n",
    "        # Окончание захвата кадра\n",
    "        cap.release()\n",
    "        raise\n",
    "\n",
    "    # Принудительное завершение программы нажатием клавиши \"Esc\"\n",
    "    ch = cv.waitKey(5)\n",
    "    if ch == 27:\n",
    "        break\n",
    "\n",
    "cap.release()\n",
    "cv.destroyAllWindows()"
   ]
  }
 ],
 "metadata": {
  "kernelspec": {
   "display_name": "Python 3",
   "language": "python",
   "name": "python3"
  },
  "language_info": {
   "codemirror_mode": {
    "name": "ipython",
    "version": 3
   },
   "file_extension": ".py",
   "mimetype": "text/x-python",
   "name": "python",
   "nbconvert_exporter": "python",
   "pygments_lexer": "ipython3",
   "version": "3.7.4"
  }
 },
 "nbformat": 4,
 "nbformat_minor": 2
}
